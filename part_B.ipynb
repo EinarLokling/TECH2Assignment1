{
 "cells": [
  {
   "cell_type": "markdown",
   "metadata": {},
   "source": [
    "# TECH 2 mandatory assignment - Part B\n",
    "\n",
    "Write your solution for Part B in this notebook."
   ]
  },
  {
   "cell_type": "code",
   "execution_count": 2,
   "metadata": {},
   "outputs": [],
   "source": [
    "\"\"\"\n",
    "TECH2 mandatory assignment - Part A\n",
    "\n",
    "Write the implementation of part A of the exercise below.\n",
    "\"\"\"\n",
    "\n",
    "def std_loops(values):\n",
    "    \"\"\"\n",
    "    Compute standard deviation of x using loops.\n",
    "\n",
    "    Parameters\n",
    "    ----------\n",
    "    values: Sequence of numbers\n",
    "\n",
    "    Returns\n",
    "    -------\n",
    "    sd : float\n",
    "        Standard deviation of the list of numbers.\n",
    "    \"\"\"\n",
    "\n",
    "    N = 0\n",
    "    \n",
    "    for i in values:\n",
    "        N += 1\n",
    "    \n",
    "    total_sum = 0\n",
    "    \n",
    "    for i in range(N):\n",
    "        total_sum += values[i]\n",
    "        \n",
    "    mean = total_sum / N\n",
    "    \n",
    "    sum_squared_diff = 0\n",
    "    \n",
    "    for i in range(N):\n",
    "        sum_squared_diff += (values[i] - mean)**2\n",
    "        \n",
    "    variance = sum_squared_diff / N\n",
    "    \n",
    "    standard_deviation = variance**(1/2)\n",
    "    \n",
    "    return standard_deviation\n",
    "\n",
    "\n",
    "\n",
    "def std_builtin(values):\n",
    "    \"\"\"\n",
    "    Compute standard deviation of x using the built-in functions sum()\n",
    "    and len().\n",
    "\n",
    "    Parameters\n",
    "    ----------\n",
    "    values: Sequence of numbers\n",
    "\n",
    "    Returns\n",
    "    -------\n",
    "    sd : float\n",
    "        Standard deviation of the list of numbers.\n",
    "    \"\"\"\n",
    "    \n",
    "\n",
    "    N = len(values)\n",
    "\n",
    "    mean = sum(values) / N\n",
    "\n",
    "    sum_squared_diff = sum((values - mean) ** 2 for values in values)\n",
    "\n",
    "    variance = sum_squared_diff / N\n",
    "\n",
    "    standard_deviation = (variance) ** (1/2)\n",
    "\n",
    "    return standard_deviation\n"
   ]
  },
  {
   "cell_type": "code",
   "execution_count": 3,
   "metadata": {},
   "outputs": [],
   "source": [
    "with open('data.csv', 'r') as file:\n",
    "    lines = file.readlines()\n",
    "\n",
    "column1 = []\n",
    "column2 = []\n",
    "column3 = []\n",
    "\n",
    "for line in lines:\n",
    "    values = line.strip().split(',')\n",
    "    \n",
    "    if values[0]:\n",
    "        column1.append(float(values[0]))\n",
    "    if values[1]:\n",
    "        column2.append(float(values[1]))\n",
    "    if values[2]:\n",
    "        column3.append(float(values[2]))\n"
   ]
  },
  {
   "cell_type": "code",
   "execution_count": 4,
   "metadata": {},
   "outputs": [],
   "source": [
    "import numpy as np"
   ]
  },
  {
   "cell_type": "markdown",
   "metadata": {},
   "source": [
    "### Printing the standard deviation of column 1 (100 values):"
   ]
  },
  {
   "cell_type": "code",
   "execution_count": 6,
   "metadata": {},
   "outputs": [
    {
     "name": "stdout",
     "output_type": "stream",
     "text": [
      "0.28237210973536014 0.28237210973536014 0.28237210973536014\n"
     ]
    }
   ],
   "source": [
    "print(np.std(column1), std_loops(column1), std_builtin(column1))"
   ]
  },
  {
   "cell_type": "markdown",
   "metadata": {},
   "source": [
    "### Timing the different ways to find the std of column 1"
   ]
  },
  {
   "cell_type": "code",
   "execution_count": 8,
   "metadata": {},
   "outputs": [
    {
     "name": "stdout",
     "output_type": "stream",
     "text": [
      "26.9 μs ± 264 ns per loop (mean ± std. dev. of 7 runs, 10,000 loops each)\n"
     ]
    }
   ],
   "source": [
    "%timeit np.std(column1)"
   ]
  },
  {
   "cell_type": "code",
   "execution_count": 9,
   "metadata": {},
   "outputs": [
    {
     "name": "stdout",
     "output_type": "stream",
     "text": [
      "21 μs ± 348 ns per loop (mean ± std. dev. of 7 runs, 10,000 loops each)\n"
     ]
    }
   ],
   "source": [
    "%timeit std_loops(column1)"
   ]
  },
  {
   "cell_type": "code",
   "execution_count": 10,
   "metadata": {},
   "outputs": [
    {
     "name": "stdout",
     "output_type": "stream",
     "text": [
      "19.8 μs ± 895 ns per loop (mean ± std. dev. of 7 runs, 100,000 loops each)\n"
     ]
    }
   ],
   "source": [
    "%timeit std_builtin(column1)"
   ]
  },
  {
   "cell_type": "markdown",
   "metadata": {},
   "source": [
    "At fewer values, python's builtin functions are faster than the std() function of numpy."
   ]
  },
  {
   "cell_type": "markdown",
   "metadata": {},
   "source": [
    "### Printing the standard deviation of column 2 (1000 values):"
   ]
  },
  {
   "cell_type": "code",
   "execution_count": 13,
   "metadata": {},
   "outputs": [
    {
     "name": "stdout",
     "output_type": "stream",
     "text": [
      "0.28467443283850596 0.2846744328385059 0.28467443283850596\n"
     ]
    }
   ],
   "source": [
    "print(np.std(column2), std_loops(column2), std_builtin(column2))"
   ]
  },
  {
   "cell_type": "markdown",
   "metadata": {},
   "source": [
    "### Timing the different ways to find the std of column 2"
   ]
  },
  {
   "cell_type": "code",
   "execution_count": 15,
   "metadata": {},
   "outputs": [
    {
     "name": "stdout",
     "output_type": "stream",
     "text": [
      "81.3 μs ± 6.19 μs per loop (mean ± std. dev. of 7 runs, 10,000 loops each)\n"
     ]
    }
   ],
   "source": [
    "%timeit np.std(column2)"
   ]
  },
  {
   "cell_type": "code",
   "execution_count": 16,
   "metadata": {},
   "outputs": [
    {
     "name": "stdout",
     "output_type": "stream",
     "text": [
      "338 μs ± 60.9 μs per loop (mean ± std. dev. of 7 runs, 1,000 loops each)\n"
     ]
    }
   ],
   "source": [
    "%timeit std_loops(column2)"
   ]
  },
  {
   "cell_type": "code",
   "execution_count": 17,
   "metadata": {},
   "outputs": [
    {
     "name": "stdout",
     "output_type": "stream",
     "text": [
      "244 μs ± 18.4 μs per loop (mean ± std. dev. of 7 runs, 1,000 loops each)\n"
     ]
    }
   ],
   "source": [
    "%timeit std_builtin(column2)"
   ]
  },
  {
   "cell_type": "markdown",
   "metadata": {},
   "source": [
    "At 1000 values, numpy is more than twice as fast as the next best option."
   ]
  },
  {
   "cell_type": "markdown",
   "metadata": {},
   "source": [
    "### Printing the standard deviation of column 3 (10000 values):"
   ]
  },
  {
   "cell_type": "code",
   "execution_count": 20,
   "metadata": {},
   "outputs": [
    {
     "name": "stdout",
     "output_type": "stream",
     "text": [
      "0.2854045269476156 0.2854045269476154 0.2854045269476156\n"
     ]
    }
   ],
   "source": [
    "print(np.std(column3), std_loops(column3), std_builtin(column3))"
   ]
  },
  {
   "cell_type": "markdown",
   "metadata": {},
   "source": [
    "### Timing the different ways to find the std of column 3"
   ]
  },
  {
   "cell_type": "code",
   "execution_count": 22,
   "metadata": {},
   "outputs": [
    {
     "name": "stdout",
     "output_type": "stream",
     "text": [
      "548 μs ± 37.5 μs per loop (mean ± std. dev. of 7 runs, 1,000 loops each)\n"
     ]
    }
   ],
   "source": [
    "%timeit np.std(column3)"
   ]
  },
  {
   "cell_type": "code",
   "execution_count": 23,
   "metadata": {},
   "outputs": [
    {
     "name": "stdout",
     "output_type": "stream",
     "text": [
      "2.79 ms ± 178 μs per loop (mean ± std. dev. of 7 runs, 100 loops each)\n"
     ]
    }
   ],
   "source": [
    "%timeit std_loops(column3)"
   ]
  },
  {
   "cell_type": "code",
   "execution_count": 24,
   "metadata": {},
   "outputs": [
    {
     "name": "stdout",
     "output_type": "stream",
     "text": [
      "2.08 ms ± 83.4 μs per loop (mean ± std. dev. of 7 runs, 100 loops each)\n"
     ]
    }
   ],
   "source": [
    "%timeit std_builtin(column3)"
   ]
  },
  {
   "cell_type": "markdown",
   "metadata": {},
   "source": [
    "At 10 000 values, Numpy is approximately 4 times faster than python calculations."
   ]
  },
  {
   "cell_type": "markdown",
   "metadata": {},
   "source": [
    "As we can see, in 2 out of 3 cases, numpy's function std() is faster. It seems that the higher the number of values to be analyzed, the better the numpy function works - for 100 values, it is actually slower than using python's builtin functions. "
   ]
  },
  {
   "cell_type": "code",
   "execution_count": null,
   "metadata": {},
   "outputs": [],
   "source": []
  }
 ],
 "metadata": {
  "kernelspec": {
   "display_name": "Python 3 (ipykernel)",
   "language": "python",
   "name": "python3"
  },
  "language_info": {
   "codemirror_mode": {
    "name": "ipython",
    "version": 3
   },
   "file_extension": ".py",
   "mimetype": "text/x-python",
   "name": "python",
   "nbconvert_exporter": "python",
   "pygments_lexer": "ipython3",
   "version": "3.12.4"
  }
 },
 "nbformat": 4,
 "nbformat_minor": 4
}
